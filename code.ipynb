{
 "cells": [
  {
   "cell_type": "code",
   "execution_count": null,
   "metadata": {},
   "outputs": [],
   "source": [
    "import numpy as np\n",
    "import matplotlib.pyplot as plt\n",
    "\n",
    "def generate_GOE_matrix(N):\n",
    "    \"\"\"\n",
    "    Generate a Gaussian Orthogonal Ensemble (GOE) matrix of size N x N.\n",
    "    \"\"\"\n",
    "    A = np.random.normal(0, 1/np.sqrt(N), (N, N))\n",
    "    return (A + A.T) / np.sqrt(2)\n",
    "\n",
    "def diagonalize(matrix):\n",
    "    \"\"\"\n",
    "    Diagonalize a matrix and return its eigenvalues.\n",
    "    \"\"\"\n",
    "    eigenvalues, _ = np.linalg.eigh(matrix)\n",
    "    return eigenvalues\n",
    "\n",
    "def plot_spectral_density(eigenvalues, bins=50):\n",
    "    \"\"\"\n",
    "    Plot the empirical spectral density of the eigenvalues.\n",
    "    \"\"\"\n",
    "    plt.hist(eigenvalues, bins=bins, density=True)\n",
    "    plt.xlabel('Eigenvalue')\n",
    "    plt.ylabel('Density')\n",
    "    plt.title('Empirical Spectral Density')\n",
    "    plt.show()\n",
    "\n",
    "def wigner_semicircle_law(x):\n",
    "    \"\"\"\n",
    "    Wigner's semi-circle distribution.\n",
    "    \"\"\"\n",
    "    return 1/(2*np.pi) * np.sqrt(4 - x**2) if abs(x) <= 2 else 0\n",
    "\n",
    "def plot_wigner_comparison(eigenvalues, bins=50):\n",
    "    \"\"\"\n",
    "    Plot the histogram of eigenvalues and overlay the Wigner semi-circle law for comparison.\n",
    "    \"\"\"\n",
    "    plt.hist(eigenvalues, bins=bins, density=True, alpha=0.5, label='Empirical')\n",
    "    x = np.linspace(-2, 2, 1000)\n",
    "    y = [wigner_semicircle_law(xi) for xi in x]\n",
    "    plt.plot(x, y, color='red', label='Wigner semi-circle')\n",
    "    plt.xlabel('Eigenvalue')\n",
    "    plt.ylabel('Density')\n",
    "    plt.title('Eigenvalue Distribution vs. Wigner Semi-circle Law')\n",
    "    plt.legend()\n",
    "    plt.show()\n",
    "\n",
    "\n"
   ]
  },
  {
   "cell_type": "code",
   "execution_count": null,
   "metadata": {},
   "outputs": [],
   "source": [
    "# Example usage\n",
    "N = 1000  # Matrix size\n",
    "GOE_matrix = generate_GOE_matrix(N)\n",
    "eigenvalues = diagonalize(GOE_matrix)\n",
    "\n",
    "plot_spectral_density(eigenvalues)\n",
    "plot_wigner_comparison(eigenvalues)"
   ]
  }
 ],
 "metadata": {
  "kernelspec": {
   "display_name": "trade",
   "language": "python",
   "name": "python3"
  },
  "language_info": {
   "name": "python",
   "version": "3.9.18"
  }
 },
 "nbformat": 4,
 "nbformat_minor": 2
}
